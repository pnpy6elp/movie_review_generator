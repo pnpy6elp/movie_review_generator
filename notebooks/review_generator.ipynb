{
 "cells": [
  {
   "cell_type": "markdown",
   "metadata": {},
   "source": [
    "__DELETE ME__\n",
    "### code flow \n",
    "- api 한 번 호출할때마다 2000자까지 가능이라 리뷰 50개씩 40번, 총 상위 2000개의 리뷰를 처리함 (리뷰 개수 늘려도 됩니당)\n",
    "- 1루프마다 (50개씩 돌릴때마다)\n",
    "    - 50개의 리뷰를 한 문장으로 이어붙이고, 이걸 api request로 보냄\n",
    "    - 루프마다 리뷰 요약 안되면 에러뜨고 넘어감\n",
    "    - 요약 결과 잘 넘어오면 response_list에 저장함\n",
    "- 루프 다 끝나면 최종 요약 생성\n",
    "    - response_list의 값들을 한 문장으로 이어붙이고, 이걸 또 api request로 보냄\n",
    "    - 최종 요약 결과 잘 넘어오면 return"
   ]
  },
  {
   "cell_type": "code",
   "execution_count": 26,
   "metadata": {},
   "outputs": [],
   "source": [
    "# read data\n",
    "def read_data(df):\n",
    "    # the api can only handle 2000 characters at a time\n",
    "    # so we will split the reviews into 40 chunks of 50 reviews each\n",
    "    reviews_for_loop = []\n",
    "\n",
    "    for i in range(1, 41):\n",
    "        start_index = (i - 1) * 50\n",
    "        end_index = i * 50\n",
    "        selected_rows = df.iloc[start_index:end_index]\n",
    "        \n",
    "        reviews_list = selected_rows['review'].tolist()\n",
    "        reviews_concatenated = ''.join(reviews_list)\n",
    "        \n",
    "        reviews_for_loop.append(reviews_concatenated)\n",
    "    return reviews_for_loop\n"
   ]
  },
  {
   "cell_type": "code",
   "execution_count": 33,
   "metadata": {},
   "outputs": [],
   "source": [
    "import os\n",
    "import json\n",
    "import requests\n",
    "\n",
    "# 1. get the summary of each chunk\n",
    "# 2. append the summary to a list\n",
    "# 3. join the list into one string\n",
    "# 4. get the final summary of the joined string\n",
    "response_list = []\n",
    "def generate_summary(i, count , reviews):\n",
    "    headers = {\n",
    "        \"X-NCP-APIGW-API-KEY-ID\": os.environ.get('client_id'),\n",
    "        \"X-NCP-APIGW-API-KEY\": os.environ.get('client_secret'),\n",
    "        \"Content-Type\": \"application/json\"\n",
    "    }\n",
    "    language = \"ko\"\n",
    "    model = \"general\"\n",
    "    tone = \"2\" # Converts the tone of the summarized result. (0, 1, 2, 3)\n",
    "    summaryCount = count # number of sentences for the summarized document.\n",
    "    # DELETE ME: 2번의 summary 할때는 1줄씩, 4번의 final summary 할때는 2줄 출력\n",
    "    url= \"https://naveropenapi.apigw.ntruss.com/text-summary/v1/summarize\" \n",
    "    title= \"Review Summary of 'The Outlaws'\"\n",
    "    content = reviews\n",
    "    data = {\n",
    "        \"document\": {\n",
    "        \"title\": title,\n",
    "        \"content\" : content\n",
    "        },\n",
    "        \"option\": {\n",
    "        \"language\": language,\n",
    "        \"model\": model,\n",
    "        \"tone\": tone,\n",
    "        \"summaryCount\" : summaryCount\n",
    "        }\n",
    "    }\n",
    "    response = requests.post(url, data=json.dumps(data), headers=headers)\n",
    "    rescode = response.status_code\n",
    "    if(rescode == 200):\n",
    "        response_list.append(response.text[12:-2])\n",
    "        if ( i != \"final\") :\n",
    "            print (i, \"summary: \", response.text[12:-2])"
   ]
  },
  {
   "cell_type": "code",
   "execution_count": 35,
   "metadata": {},
   "outputs": [
    {
     "name": "stdout",
     "output_type": "stream",
     "text": [
      "1 summary:  한국영화의 퇴보 상업성만따지고 작품성은버림 이런 내용도없는 잔인한 영화는 이세상에서 사라져야합니다.\n",
      "2 summary:  살짝어색한마동석이엇지만 전체내용은 재밋음 그럭저럭 킬링타임용으로 괜찮음..ps1)마동석만 너무 쎈캐임..ps2)윤계상 못생김 주의.... ksd평점으로 7점 매깁니다.\n",
      "4 summary:  연기를허벌잘해서 개꾸르꾸르핵토파스칼잼 스트레스잼 졷선족잼 어딘가 좀 엉성하게 전체적인 짜임새가 부족하다 쓸데없는 장난이 너무들어감 노잼 별로 재미없는것 같습니다.\n",
      "5 summary:  마동석 졸잼 윤계상 연기굿 지나치게 과대평가된듯 해서 평점 좀 깎습니다.\n",
      "6 summary:  참 그놈의 상업을 위한, 흥행을 위한 요소들만 결부시키는 영화들만 만들어 대니 한국 영화의 발전이 없는것입니다.\n",
      "7 summary:  정말 더럽게 잔인하고 화나는 영화였습니다.\n",
      "8 summary:  재미 이렇게 흥행해서 감독이 한국영화판 쉽게보고 또 이딴 영화만들어 말아먹고 은퇴하고..20년전이란 변한게 없는 장르물 마동석 나오는 즉시 모든 긴장감이 사라집니다.\n",
      "10 summary:  2시간 내내 보기 불편 이딴 영화를 만들었냐 진짜 보는내내 두시간이 어떻게 지나가는지 모르는영화였습니다.\n",
      "11 summary:  마동석 짱 윤계상 연기잘함 저는 잔인하지만 너무 몰입도있게 봤습니다.\n",
      "12 summary:  윤계상 마동석 환상의 연기 콤비 영화 많이 보진 않지만, 올해 최고 흥행인 택시운전사보다 1.5배 재밌게 봤습니다.\n",
      "13 summary:  이번 년도 본 영화 중에 최고였습니다.\n",
      "14 summary:  이영화 보니까 황해가 생각나서 다시 보려고 합니다.\n",
      "15 summary:  잔인한 오락영화지만 시원하기도 한 느낌.강추 근래 본 영화중 최고입니다.\n",
      "16 summary:  별삭감 올해 본 영화 중 5손가락 안에 듭니다.\n",
      "17 summary:  잔인하고 요즘 범죄영화에서 꼭 나오는 망치질 칼 난도질.. 눈살 찌푸려집니다.\n",
      "18 summary:  영화관에서 지루하지 않았던게 얼마만인지.. 재미있습니다.\n",
      "19 summary:  배우들 연기 진짜 캐릭터 하나하나가 장난 아닙니다.\n",
      "21 summary:  주연,조연,단역배우분들 단한명도 안빠지고 연기 진짜 너무 잘하십니다.\n",
      "22 summary:  이게 인터스텔라보다 평점이 높은게 말이안되서 평점조정좀.. 리뷰너무오바한사람들 많음 8.5정도가 적당한 영화 최고의 영화입니다.\n",
      "23 summary:  간만에 시간가는줄모르게 정말잼나게봤음~~강추 최고의 범죄액션 오락영화입니다.\n",
      "24 summary:  진짜 100% 올만에 재밌게 몰입한영화입니다.\n",
      "25 summary:  최근본영화중에 최고 존잼 킬링타임용영화 인듯 마동석 윤계상 배우들에게는 최고의 영화라고 자부할 수있겠습니다.\n",
      "26 summary:  영화는 재밌는데,영화관 매너좀 지킵시다집구석에서 보는것같은 OO같은 오버액션은집에서만 합니다.\n",
      "27 summary:  올해 최고의 영화 정말젬있게 밨어요 마동석최고 가족끼리 보고왔습니다.\n",
      "28 summary:  한국영화 본 영화 중에서 가장 재밌어습니다 꼭 보십니까?\n",
      "30 summary:  이 영화는 너무나 어울리는 조연들의 연기가 압권입니다.\n",
      "31 summary:  이런류의 영화에서 충족시킬 수 있는 모든것을 충족시킵니다.\n",
      "32 summary:  재미있게 잘봤어요역쉬 마동석 최고~^♡^~ 실화바탕인데ㆍ어우잔인합니다.\n",
      "33 summary:  배우들 연기도 너무 좋고, 유머러스함도 있고. 근데 잔인하기도 합니다.\n",
      "34 summary:  감동도 없고...근데 .왜 이렇게 떴습니까?\n",
      "35 summary:  이번해에 통틀어 본 영화중 스릴감 갑인영화추격자 저리가라 윤계상 색깔있는 악역연기 너무좋았습니다.\n",
      "36 summary:  마지막에 꿈쩍도안하시는 마동석님 정말 감사합니다.\n",
      "37 summary:  마동석 특유의 시원시원한액션 윤계상의 악역연기 둘다 볼만했습니다.\n",
      "38 summary:  스티븐 시걸 전성기시절이 생각나는 마동석표 꺽기액션 새로운 스타일의 영화입니다.\n",
      "39 summary:  그러나 윤계상의 연기에는 너무 놀랐습니다.\n",
      "40 summary:  잔인하지만 잼있고 연기 좋고 대만족 최근 본 영화중 가장 재밌었습니다.\n"
     ]
    }
   ],
   "source": [
    "## main function\n",
    "\n",
    "import pandas as pd\n",
    "\n",
    "file_path = \"../result/result.csv\"\n",
    "df = pd.read_csv(file_path)\n",
    "\n",
    "data = read_data(df)\n",
    "for i in range(len(data)): \n",
    "    generate_summary(i+1, 1, data[i]) # set summaryCount to 1"
   ]
  },
  {
   "cell_type": "code",
   "execution_count": 37,
   "metadata": {},
   "outputs": [
    {
     "name": "stdout",
     "output_type": "stream",
     "text": [
      "-----------final summary-----------\n",
      "윤계상 마동석 환상의 연기 콤비 영화 많이 보진 않지만, 올해 최고 흥행인 택시운전사보다 1.5배 재밌게 봤습니다.\\n최근본영화중에 최고 존잼 킬링타임용영화 인듯 마동석 윤계상 배우들에게는 최고의 영화라고 자부할 수있겠습니다.\n"
     ]
    }
   ],
   "source": [
    "# get the final summary\n",
    "\n",
    "final_summarize = ''.join(response_list)\n",
    "summary = generate_summary(\"final\", 2, final_summarize) # set summaryCount to 2\n",
    "\n",
    "print(\"-----------final summary-----------\")\n",
    "print(response_list[-1]) # final summary"
   ]
  }
 ],
 "metadata": {
  "kernelspec": {
   "display_name": "ai_env",
   "language": "python",
   "name": "python3"
  },
  "language_info": {
   "codemirror_mode": {
    "name": "ipython",
    "version": 3
   },
   "file_extension": ".py",
   "mimetype": "text/x-python",
   "name": "python",
   "nbconvert_exporter": "python",
   "pygments_lexer": "ipython3",
   "version": "3.9.13"
  }
 },
 "nbformat": 4,
 "nbformat_minor": 2
}
